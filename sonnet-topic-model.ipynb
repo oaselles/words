{
 "cells": [
  {
   "cell_type": "code",
   "execution_count": 1,
   "metadata": {},
   "outputs": [],
   "source": [
    "import os\n",
    "import string\n",
    "import nltk\n",
    "from gensim import corpora, models\n",
    "from urllib import request"
   ]
  },
  {
   "cell_type": "code",
   "execution_count": 2,
   "metadata": {},
   "outputs": [],
   "source": [
    "def tokenize(doc):\n",
    "\n",
    "    stopwords = nltk.corpus.stopwords.words('english')\n",
    "    tokens = doc.split()\n",
    "    tokens = [t for t in tokens if t.lower() not in stopwords]\n",
    "    tokens = [t.lower() for t in tokens if t.isalpha()]\n",
    "\n",
    "    return tokens"
   ]
  },
  {
   "cell_type": "code",
   "execution_count": 3,
   "metadata": {},
   "outputs": [],
   "source": [
    "if not os.path.exists('shakespeare-complete-raw.txt'):\n",
    "    print('downloading shakespeare text...')\n",
    "    url = 'https://ocw.mit.edu/ans7870/6/6.006/s08/lecturenotes/files/t8.shakespeare.txt'\n",
    "    response = request.urlopen(url)\n",
    "    raw = response.read().decode('utf8')\n",
    "    with open('shakespeare-complete-raw.txt', 'w') as o:\n",
    "        o.write(raw)"
   ]
  },
  {
   "cell_type": "code",
   "execution_count": 4,
   "metadata": {
    "scrolled": true
   },
   "outputs": [
    {
     "name": "stdout",
     "output_type": "stream",
     "text": [
      "processing text...\n"
     ]
    },
    {
     "data": {
      "text/plain": [
       "148"
      ]
     },
     "execution_count": 4,
     "metadata": {},
     "output_type": "execute_result"
    }
   ],
   "source": [
    "print('processing text...')\n",
    "text = open('shakespeare-complete-raw.txt').read()\n",
    "sonnets_complete = text[text.find('THE SONNETS'):text.find('THE END')]\n",
    "sonnets = sonnets_complete.split('\\n\\n\\n')\n",
    "sonnets = [tokenize(s) for s in sonnets]\n",
    "sonnets = sonnets[1:-1]  # remove the first and last\n",
    "len(sonnets)"
   ]
  },
  {
   "cell_type": "code",
   "execution_count": 5,
   "metadata": {},
   "outputs": [
    {
     "name": "stdout",
     "output_type": "stream",
     "text": [
      "training model...\n"
     ]
    }
   ],
   "source": [
    "dictionary = corpora.Dictionary(sonnets)\n",
    "# dictionary.filter_extremes(no_above=0.25)\n",
    "dictionary.filter_n_most_frequent(200)\n",
    "\n",
    "corpus = [dictionary.doc2bow(sonnet) for sonnet in sonnets]\n",
    "\n",
    "print('training model...')\n",
    "model = models.LdaModel(corpus, id2word=dictionary, num_topics=10)\n",
    "\n",
    "topics = model.print_topics()"
   ]
  },
  {
   "cell_type": "code",
   "execution_count": 6,
   "metadata": {},
   "outputs": [
    {
     "name": "stdout",
     "output_type": "stream",
     "text": [
      "0.007*\"friend\" + 0.006*\"wound\" + 0.006*\"picture\" + 0.004*\"power\" + 0.004*\"greater\" + 0.004*\"flower\" + 0.004*\"thrice\" + 0.004*\"large\" + 0.004*\"high\" + 0.004*\"blame\"\n",
      "\n",
      "0.008*\"three\" + 0.005*\"bastard\" + 0.003*\"born\" + 0.003*\"second\" + 0.003*\"map\" + 0.003*\"holy\" + 0.003*\"farther\" + 0.003*\"seldom\" + 0.003*\"antique\" + 0.003*\"clouds\"\n",
      "\n",
      "0.010*\"mind\" + 0.007*\"whether\" + 0.005*\"shape\" + 0.005*\"mistress\" + 0.005*\"favour\" + 0.004*\"hear\" + 0.004*\"given\" + 0.004*\"widow\" + 0.004*\"roses\" + 0.004*\"objects\"\n",
      "\n",
      "0.004*\"words\" + 0.004*\"dull\" + 0.004*\"conquest\" + 0.004*\"less\" + 0.004*\"eyelids\" + 0.004*\"sight\" + 0.004*\"title\" + 0.004*\"open\" + 0.004*\"weary\" + 0.003*\"hope\"\n",
      "\n",
      "0.007*\"conscience\" + 0.006*\"acquaintance\" + 0.005*\"oaths\" + 0.005*\"invention\" + 0.004*\"sworn\" + 0.004*\"alone\" + 0.004*\"want\" + 0.004*\"argument\" + 0.004*\"reasons\" + 0.004*\"subject\"\n",
      "\n",
      "0.009*\"soul\" + 0.006*\"sick\" + 0.005*\"babe\" + 0.005*\"bath\" + 0.004*\"dare\" + 0.004*\"pine\" + 0.004*\"hence\" + 0.004*\"sinful\" + 0.004*\"number\" + 0.004*\"slave\"\n",
      "\n",
      "0.007*\"reason\" + 0.005*\"mad\" + 0.005*\"shadow\" + 0.004*\"sleep\" + 0.004*\"lust\" + 0.004*\"nights\" + 0.004*\"sooner\" + 0.004*\"gift\" + 0.004*\"dreams\" + 0.004*\"dead\"\n",
      "\n",
      "0.005*\"wide\" + 0.005*\"dull\" + 0.005*\"excuse\" + 0.004*\"tired\" + 0.004*\"windows\" + 0.004*\"honour\" + 0.004*\"faith\" + 0.004*\"peace\" + 0.004*\"mock\" + 0.004*\"behold\"\n",
      "\n",
      "0.005*\"thence\" + 0.004*\"painting\" + 0.004*\"fairest\" + 0.004*\"public\" + 0.004*\"believe\" + 0.004*\"thinking\" + 0.004*\"wherefore\" + 0.004*\"brain\" + 0.003*\"rank\" + 0.003*\"place\"\n",
      "\n",
      "0.009*\"ten\" + 0.009*\"angel\" + 0.005*\"seen\" + 0.005*\"happier\" + 0.004*\"former\" + 0.004*\"bad\" + 0.004*\"whether\" + 0.004*\"princes\" + 0.004*\"methinks\" + 0.004*\"treasure\"\n",
      "\n"
     ]
    }
   ],
   "source": [
    "for topic in topics:\n",
    "    print(topic[1])\n",
    "    print('')"
   ]
  },
  {
   "cell_type": "code",
   "execution_count": null,
   "metadata": {},
   "outputs": [],
   "source": []
  }
 ],
 "metadata": {
  "kernelspec": {
   "display_name": "Python 3",
   "language": "python",
   "name": "python3"
  },
  "language_info": {
   "codemirror_mode": {
    "name": "ipython",
    "version": 3
   },
   "file_extension": ".py",
   "mimetype": "text/x-python",
   "name": "python",
   "nbconvert_exporter": "python",
   "pygments_lexer": "ipython3",
   "version": "3.8.1"
  }
 },
 "nbformat": 4,
 "nbformat_minor": 4
}
